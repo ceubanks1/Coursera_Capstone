{
 "cells": [
  {
   "cell_type": "markdown",
   "metadata": {},
   "source": [
    "# Capstone Project - The Battle of Neighborhoods"
   ]
  },
  {
   "cell_type": "markdown",
   "metadata": {},
   "source": [
    "## Week 1 "
   ]
  },
  {
   "cell_type": "markdown",
   "metadata": {},
   "source": [
    "For this week, you will be required to submit the following:\n",
    "\n",
    "1. A description of the problem and a discussion of the background. (15 marks)\n",
    "2. A description of the data and how it will be used to solve the problem. (15 marks)"
   ]
  },
  {
   "cell_type": "markdown",
   "metadata": {},
   "source": [
    "# Section 1: Introduction"
   ]
  },
  {
   "cell_type": "markdown",
   "metadata": {},
   "source": [
    "## Description of the Problem"
   ]
  },
  {
   "cell_type": "markdown",
   "metadata": {},
   "source": [
    "### Background"
   ]
  },
  {
   "cell_type": "markdown",
   "metadata": {},
   "source": [
    "There are numerous travel sites scattered about the Internet, FourSquare being on of these, that give you various information pertaining to, restaurants, bars, nightclubs, where to get  breakfast and a good cup of coffee in the morning. The problems with these sites is usually only detail one aspect of the venue. The venue may be most popular place for a night out but it doesn't mean that a tourist or someone new to the city should automatically visit the venoue without more information. The areas surrounding the venue may be a high crime area including robbery, drug activity and assault as examples. These factors may fluctuate depending on timing of proposed visit. The idea of this project is to provide the information pertaining to the venue but coupling this data with crime data to better inform the prospective customer with readily available data to make an informed and safe decision for an enjoyable experience. "
   ]
  },
  {
   "cell_type": "markdown",
   "metadata": {},
   "source": [
    "### Project Concept"
   ]
  },
  {
   "cell_type": "markdown",
   "metadata": {},
   "source": [
    "The concept for this project is to provide visitors to the Orlando area, venues based upon the the FourSquare API query and accompanied with crime data, venue options that they can feel comfortable and safe with their families or possibly single adult.\n",
    "\n",
    "The approach will follow the basic approach outlined as follows:\n",
    "\n",
    "1. The travellers decides on a city location. (this case being Orlando, FL)\n",
    "2. The ForeSquare website is scraped for the top venues in Orlando\n",
    "3. The list of venues is supplied with geographical data\n",
    "4. Historical crimes within a given distance of all venues are presented\n",
    "5. A map is produced showing the selected venues and crime statistics in the area\n",
    "6. The probability of a crime ocurring near the selected top sites is also presented\n"
   ]
  },
  {
   "cell_type": "markdown",
   "metadata": {},
   "source": [
    "### Target Audience"
   ]
  },
  {
   "cell_type": "markdown",
   "metadata": {},
   "source": [
    "The target audience of htis project is the 10's of thousands or visitors to the Orlando, FL area. The weather and many attractions, including Disney World and Universal Studios, which are consistently in the top attractions of the US, produce many visitors that are not familiar with the local area every year. Along with these transactions there are thousands or restaurants and night clubs for the enjoyment of visitors, but not always in the most family or single visitor safe areas. These visitors include the elderly and single female persons that tend to let there \"guard down\" when visiting the area."
   ]
  },
  {
   "cell_type": "markdown",
   "metadata": {},
   "source": [
    "### Import libraries to read data"
   ]
  },
  {
   "cell_type": "code",
   "execution_count": 1,
   "metadata": {},
   "outputs": [],
   "source": [
    "import pandas as pd\n",
    "import requests\n",
    "from bs4 import BeautifulSoup"
   ]
  },
  {
   "cell_type": "markdown",
   "metadata": {},
   "source": [
    "### Setup credentials for call of the FourSquare API"
   ]
  },
  {
   "cell_type": "code",
   "execution_count": 2,
   "metadata": {},
   "outputs": [
    {
     "name": "stdout",
     "output_type": "stream",
     "text": [
      "Your credentails:\n",
      "CLIENT_ID: VEC3NZNS5L2KNODCHV3PF10JUXKS32QT4NJ1EQK4ROWBZVXS\n",
      "CLIENT_SECRET:Q40CAFX222FY32FNK1QA113KP3QT0P2R0C45LWIXDXIVLJ53\n"
     ]
    }
   ],
   "source": [
    "CLIENT_ID = 'VEC3NZNS5L2KNODCHV3PF10JUXKS32QT4NJ1EQK4ROWBZVXS' # your Foursquare ID\n",
    "CLIENT_SECRET = 'Q40CAFX222FY32FNK1QA113KP3QT0P2R0C45LWIXDXIVLJ53' # your Foursquare Secret\n",
    "VERSION = '20180605' # Foursquare API version\n",
    "LIMIT = 100 # A default Foursquare API limit value\n",
    "\n",
    "print('Your credentails:')\n",
    "print('CLIENT_ID: ' + CLIENT_ID)\n",
    "print('CLIENT_SECRET:' + CLIENT_SECRET)"
   ]
  },
  {
   "cell_type": "markdown",
   "metadata": {},
   "source": [
    "### Retrieve Orlando, FL latitude and longitude"
   ]
  },
  {
   "cell_type": "code",
   "execution_count": 3,
   "metadata": {},
   "outputs": [
    {
     "name": "stdout",
     "output_type": "stream",
     "text": [
      "Collecting package metadata (current_repodata.json): done\n",
      "Solving environment: done\n",
      "\n",
      "# All requested packages already installed.\n",
      "\n",
      "The geograpical coordinate of Orlando, FL are 28.5421109, -81.3790304.\n"
     ]
    }
   ],
   "source": [
    "!conda install -c conda-forge geopy --yes \n",
    "from geopy.geocoders import Nominatim\n",
    "\n",
    "address = 'Orlando, FL'\n",
    "\n",
    "geolocator = Nominatim(user_agent=\"orlando_explorer\")\n",
    "location = geolocator.geocode(address)\n",
    "latitude = location.latitude\n",
    "longitude = location.longitude\n",
    "print('The geograpical coordinate of Orlando, FL are {}, {}.'.format(latitude, longitude))"
   ]
  },
  {
   "cell_type": "markdown",
   "metadata": {},
   "source": [
    "# Section 2: Data"
   ]
  },
  {
   "cell_type": "markdown",
   "metadata": {},
   "source": [
    "### FourSquare Data"
   ]
  },
  {
   "cell_type": "markdown",
   "metadata": {},
   "source": [
    "Setup URL and parameters for FourSquare API call"
   ]
  },
  {
   "cell_type": "code",
   "execution_count": 12,
   "metadata": {},
   "outputs": [],
   "source": [
    "LIMIT = 100 # limit the number of venues returned from Foursquare\n",
    "radius = 2000 # define radius\n",
    "sortByPopularity = 1\n",
    "url = 'https://api.foursquare.com/v2/venues/explore?&client_id={}&client_secret={}&v={}&ll={},{}&radius={}&limit={}&sortByPopularity={}'.format(\n",
    "    CLIENT_ID, \n",
    "    CLIENT_SECRET, \n",
    "    VERSION, \n",
    "    latitude, \n",
    "    longitude, \n",
    "    radius, \n",
    "    LIMIT,\n",
    "    sortByPopularity)\n",
    "\n",
    "# get the result to a json file\n",
    "results = requests.get(url).json()"
   ]
  },
  {
   "cell_type": "code",
   "execution_count": 14,
   "metadata": {},
   "outputs": [],
   "source": [
    "def get_category_type(row):\n",
    "    try:\n",
    "        categories_list = row['categories']\n",
    "    except:\n",
    "        categories_list = row['venue.categories']\n",
    "        \n",
    "    if len(categories_list) == 0:\n",
    "        return None\n",
    "    else:\n",
    "        return categories_list[0]['name']"
   ]
  },
  {
   "cell_type": "markdown",
   "metadata": {},
   "source": [
    "The top **100** most popular venues, as determined by the FourSquare API, will be extracted using the FourSquare API for Orlando, FL. "
   ]
  },
  {
   "cell_type": "code",
   "execution_count": 15,
   "metadata": {},
   "outputs": [
    {
     "name": "stderr",
     "output_type": "stream",
     "text": [
      "<ipython-input-15-26254d37cae5>:3: FutureWarning: pandas.io.json.json_normalize is deprecated, use pandas.json_normalize instead\n",
      "  nearby_venues = json_normalize(venues) # flatten JSON\n"
     ]
    },
    {
     "data": {
      "text/html": [
       "<div>\n",
       "<style scoped>\n",
       "    .dataframe tbody tr th:only-of-type {\n",
       "        vertical-align: middle;\n",
       "    }\n",
       "\n",
       "    .dataframe tbody tr th {\n",
       "        vertical-align: top;\n",
       "    }\n",
       "\n",
       "    .dataframe thead th {\n",
       "        text-align: right;\n",
       "    }\n",
       "</style>\n",
       "<table border=\"1\" class=\"dataframe\">\n",
       "  <thead>\n",
       "    <tr style=\"text-align: right;\">\n",
       "      <th></th>\n",
       "      <th>name</th>\n",
       "      <th>categories</th>\n",
       "      <th>lat</th>\n",
       "      <th>lng</th>\n",
       "    </tr>\n",
       "  </thead>\n",
       "  <tbody>\n",
       "    <tr>\n",
       "      <th>0</th>\n",
       "      <td>Lake Eola Park</td>\n",
       "      <td>Park</td>\n",
       "      <td>28.543852</td>\n",
       "      <td>-81.373176</td>\n",
       "    </tr>\n",
       "    <tr>\n",
       "      <th>1</th>\n",
       "      <td>SunRail Station at Lynx Central Station</td>\n",
       "      <td>Train Station</td>\n",
       "      <td>28.548547</td>\n",
       "      <td>-81.380897</td>\n",
       "    </tr>\n",
       "    <tr>\n",
       "      <th>2</th>\n",
       "      <td>Publix</td>\n",
       "      <td>Grocery Store</td>\n",
       "      <td>28.541963</td>\n",
       "      <td>-81.372978</td>\n",
       "    </tr>\n",
       "    <tr>\n",
       "      <th>3</th>\n",
       "      <td>Amway Center</td>\n",
       "      <td>Basketball Stadium</td>\n",
       "      <td>28.539210</td>\n",
       "      <td>-81.383798</td>\n",
       "    </tr>\n",
       "    <tr>\n",
       "      <th>4</th>\n",
       "      <td>Dr. Phillips Center for the Performing Arts</td>\n",
       "      <td>Theater</td>\n",
       "      <td>28.537622</td>\n",
       "      <td>-81.377202</td>\n",
       "    </tr>\n",
       "    <tr>\n",
       "      <th>...</th>\n",
       "      <td>...</td>\n",
       "      <td>...</td>\n",
       "      <td>...</td>\n",
       "      <td>...</td>\n",
       "    </tr>\n",
       "    <tr>\n",
       "      <th>95</th>\n",
       "      <td>Royal Tea</td>\n",
       "      <td>Tea Room</td>\n",
       "      <td>28.553753</td>\n",
       "      <td>-81.364569</td>\n",
       "    </tr>\n",
       "    <tr>\n",
       "      <th>96</th>\n",
       "      <td>Chillers</td>\n",
       "      <td>Bar</td>\n",
       "      <td>28.540427</td>\n",
       "      <td>-81.379681</td>\n",
       "    </tr>\n",
       "    <tr>\n",
       "      <th>97</th>\n",
       "      <td>Texas Fried Chicken</td>\n",
       "      <td>Fried Chicken Joint</td>\n",
       "      <td>28.537945</td>\n",
       "      <td>-81.397543</td>\n",
       "    </tr>\n",
       "    <tr>\n",
       "      <th>98</th>\n",
       "      <td>Cuban-american Cafe</td>\n",
       "      <td>Cuban Restaurant</td>\n",
       "      <td>28.542527</td>\n",
       "      <td>-81.381526</td>\n",
       "    </tr>\n",
       "    <tr>\n",
       "      <th>99</th>\n",
       "      <td>Bösendorfer Lounge</td>\n",
       "      <td>Lounge</td>\n",
       "      <td>28.538812</td>\n",
       "      <td>-81.378831</td>\n",
       "    </tr>\n",
       "  </tbody>\n",
       "</table>\n",
       "<p>100 rows × 4 columns</p>\n",
       "</div>"
      ],
      "text/plain": [
       "                                           name           categories  \\\n",
       "0                                Lake Eola Park                 Park   \n",
       "1       SunRail Station at Lynx Central Station        Train Station   \n",
       "2                                        Publix        Grocery Store   \n",
       "3                                  Amway Center   Basketball Stadium   \n",
       "4   Dr. Phillips Center for the Performing Arts              Theater   \n",
       "..                                          ...                  ...   \n",
       "95                                    Royal Tea             Tea Room   \n",
       "96                                     Chillers                  Bar   \n",
       "97                          Texas Fried Chicken  Fried Chicken Joint   \n",
       "98                          Cuban-american Cafe     Cuban Restaurant   \n",
       "99                           Bösendorfer Lounge               Lounge   \n",
       "\n",
       "          lat        lng  \n",
       "0   28.543852 -81.373176  \n",
       "1   28.548547 -81.380897  \n",
       "2   28.541963 -81.372978  \n",
       "3   28.539210 -81.383798  \n",
       "4   28.537622 -81.377202  \n",
       "..        ...        ...  \n",
       "95  28.553753 -81.364569  \n",
       "96  28.540427 -81.379681  \n",
       "97  28.537945 -81.397543  \n",
       "98  28.542527 -81.381526  \n",
       "99  28.538812 -81.378831  \n",
       "\n",
       "[100 rows x 4 columns]"
      ]
     },
     "execution_count": 15,
     "metadata": {},
     "output_type": "execute_result"
    }
   ],
   "source": [
    "from pandas.io.json import json_normalize \n",
    "venues = results['response']['groups'][0]['items']\n",
    "nearby_venues = json_normalize(venues) # flatten JSON\n",
    "\n",
    "# filter columns\n",
    "filtered_columns = ['venue.name', 'venue.categories', 'venue.location.lat', 'venue.location.lng']\n",
    "nearby_venues =nearby_venues.loc[:, filtered_columns]\n",
    "\n",
    "# filter the category for each row\n",
    "nearby_venues['venue.categories'] = nearby_venues.apply(get_category_type, axis=1)\n",
    "\n",
    "# clean columns\n",
    "nearby_venues.columns = [col.split(\".\")[-1] for col in nearby_venues.columns]\n",
    "\n",
    "nearby_venues"
   ]
  },
  {
   "cell_type": "markdown",
   "metadata": {},
   "source": [
    "### Description of the FourSquare data"
   ]
  },
  {
   "cell_type": "code",
   "execution_count": 16,
   "metadata": {},
   "outputs": [
    {
     "data": {
      "text/plain": [
       "count                     100\n",
       "unique                     56\n",
       "top       American Restaurant\n",
       "freq                        8\n",
       "Name: categories, dtype: object"
      ]
     },
     "execution_count": 16,
     "metadata": {},
     "output_type": "execute_result"
    }
   ],
   "source": [
    "nearby_venues.categories.describe()"
   ]
  },
  {
   "cell_type": "markdown",
   "metadata": {},
   "source": [
    "### Orlando Crime Data\n",
    "\n",
    "#### Read OPD_Crimes.csv file downloaded from the City of Orlando open data website"
   ]
  },
  {
   "cell_type": "code",
   "execution_count": 18,
   "metadata": {},
   "outputs": [
    {
     "data": {
      "text/html": [
       "<div>\n",
       "<style scoped>\n",
       "    .dataframe tbody tr th:only-of-type {\n",
       "        vertical-align: middle;\n",
       "    }\n",
       "\n",
       "    .dataframe tbody tr th {\n",
       "        vertical-align: top;\n",
       "    }\n",
       "\n",
       "    .dataframe thead th {\n",
       "        text-align: right;\n",
       "    }\n",
       "</style>\n",
       "<table border=\"1\" class=\"dataframe\">\n",
       "  <thead>\n",
       "    <tr style=\"text-align: right;\">\n",
       "      <th></th>\n",
       "      <th>Case Number</th>\n",
       "      <th>Case Date Time</th>\n",
       "      <th>Case Location</th>\n",
       "      <th>Case Offense Location Type</th>\n",
       "      <th>Case Offense Category</th>\n",
       "      <th>Case Offense Type</th>\n",
       "      <th>Case Offense Charge Type</th>\n",
       "      <th>Case Disposition</th>\n",
       "      <th>Status</th>\n",
       "      <th>Location</th>\n",
       "    </tr>\n",
       "  </thead>\n",
       "  <tbody>\n",
       "    <tr>\n",
       "      <th>0</th>\n",
       "      <td>2020-00000700</td>\n",
       "      <td>01/01/2020 03:44:00 PM</td>\n",
       "      <td>9400 Block of JEFF FUQUA BLVD</td>\n",
       "      <td>Airport</td>\n",
       "      <td>Theft</td>\n",
       "      <td>All other larceny</td>\n",
       "      <td>Committed</td>\n",
       "      <td>Open</td>\n",
       "      <td>Unmapped</td>\n",
       "      <td>NaN</td>\n",
       "    </tr>\n",
       "    <tr>\n",
       "      <th>1</th>\n",
       "      <td>2019-00002818</td>\n",
       "      <td>01/03/2019 08:22:00 AM</td>\n",
       "      <td>4900 Block of FIJI CIR</td>\n",
       "      <td>Residence/Single</td>\n",
       "      <td>Theft</td>\n",
       "      <td>All other larceny</td>\n",
       "      <td>Committed</td>\n",
       "      <td>Closed</td>\n",
       "      <td>Mapped</td>\n",
       "      <td>(28.60235426, -81.43691172)</td>\n",
       "    </tr>\n",
       "    <tr>\n",
       "      <th>2</th>\n",
       "      <td>2020-00004890</td>\n",
       "      <td>01/05/2020 09:48:00 AM</td>\n",
       "      <td>9300 Block of JEFF FUQUA BLVD</td>\n",
       "      <td>Airport</td>\n",
       "      <td>Theft</td>\n",
       "      <td>All other larceny</td>\n",
       "      <td>Committed</td>\n",
       "      <td>Closed</td>\n",
       "      <td>Unmapped</td>\n",
       "      <td>NaN</td>\n",
       "    </tr>\n",
       "    <tr>\n",
       "      <th>3</th>\n",
       "      <td>2020-00007368</td>\n",
       "      <td>01/07/2020 01:04:00 PM</td>\n",
       "      <td>4700 Block of N PINE HILLS RD</td>\n",
       "      <td>Apartment/Condo</td>\n",
       "      <td>Robbery</td>\n",
       "      <td>Robbery</td>\n",
       "      <td>Committed</td>\n",
       "      <td>Arrest</td>\n",
       "      <td>Mapped</td>\n",
       "      <td>(28.60018728, -81.45147832)</td>\n",
       "    </tr>\n",
       "    <tr>\n",
       "      <th>4</th>\n",
       "      <td>2020-00008073</td>\n",
       "      <td>01/08/2020 01:18:00 AM</td>\n",
       "      <td>9400 Block of JEFF FUQUA BLVD</td>\n",
       "      <td>Airport</td>\n",
       "      <td>Theft</td>\n",
       "      <td>All other larceny</td>\n",
       "      <td>Committed</td>\n",
       "      <td>Closed</td>\n",
       "      <td>Unmapped</td>\n",
       "      <td>NaN</td>\n",
       "    </tr>\n",
       "  </tbody>\n",
       "</table>\n",
       "</div>"
      ],
      "text/plain": [
       "     Case Number          Case Date Time                  Case Location  \\\n",
       "0  2020-00000700  01/01/2020 03:44:00 PM  9400 Block of JEFF FUQUA BLVD   \n",
       "1  2019-00002818  01/03/2019 08:22:00 AM         4900 Block of FIJI CIR   \n",
       "2  2020-00004890  01/05/2020 09:48:00 AM  9300 Block of JEFF FUQUA BLVD   \n",
       "3  2020-00007368  01/07/2020 01:04:00 PM  4700 Block of N PINE HILLS RD   \n",
       "4  2020-00008073  01/08/2020 01:18:00 AM  9400 Block of JEFF FUQUA BLVD   \n",
       "\n",
       "  Case Offense Location Type Case Offense Category  Case Offense Type  \\\n",
       "0                    Airport                 Theft  All other larceny   \n",
       "1           Residence/Single                 Theft  All other larceny   \n",
       "2                    Airport                 Theft  All other larceny   \n",
       "3            Apartment/Condo               Robbery            Robbery   \n",
       "4                    Airport                 Theft  All other larceny   \n",
       "\n",
       "  Case Offense Charge Type Case Disposition    Status  \\\n",
       "0                Committed             Open  Unmapped   \n",
       "1                Committed           Closed    Mapped   \n",
       "2                Committed           Closed  Unmapped   \n",
       "3                Committed           Arrest    Mapped   \n",
       "4                Committed           Closed  Unmapped   \n",
       "\n",
       "                      Location  \n",
       "0                          NaN  \n",
       "1  (28.60235426, -81.43691172)  \n",
       "2                          NaN  \n",
       "3  (28.60018728, -81.45147832)  \n",
       "4                          NaN  "
      ]
     },
     "execution_count": 18,
     "metadata": {},
     "output_type": "execute_result"
    }
   ],
   "source": [
    "Orlando_crime = pd.read_csv(\"OPD_Crimes.csv\")\n",
    "Orlando_crime.head()"
   ]
  },
  {
   "cell_type": "code",
   "execution_count": 27,
   "metadata": {},
   "outputs": [],
   "source": [
    "Orlando_crime.columns = Orlando_crime.columns.str.replace(' ','')"
   ]
  },
  {
   "cell_type": "markdown",
   "metadata": {},
   "source": [
    "### Description of Orlando Crime data"
   ]
  },
  {
   "cell_type": "code",
   "execution_count": 37,
   "metadata": {},
   "outputs": [
    {
     "data": {
      "text/html": [
       "<div>\n",
       "<style scoped>\n",
       "    .dataframe tbody tr th:only-of-type {\n",
       "        vertical-align: middle;\n",
       "    }\n",
       "\n",
       "    .dataframe tbody tr th {\n",
       "        vertical-align: top;\n",
       "    }\n",
       "\n",
       "    .dataframe thead th {\n",
       "        text-align: right;\n",
       "    }\n",
       "</style>\n",
       "<table border=\"1\" class=\"dataframe\">\n",
       "  <thead>\n",
       "    <tr style=\"text-align: right;\">\n",
       "      <th></th>\n",
       "      <th>CaseNumber</th>\n",
       "      <th>CaseDateTime</th>\n",
       "      <th>CaseLocation</th>\n",
       "      <th>CaseOffenseLocationType</th>\n",
       "      <th>CaseOffenseCategory</th>\n",
       "      <th>CaseOffenseType</th>\n",
       "      <th>CaseOffenseChargeType</th>\n",
       "      <th>CaseDisposition</th>\n",
       "      <th>Status</th>\n",
       "      <th>Location</th>\n",
       "    </tr>\n",
       "  </thead>\n",
       "  <tbody>\n",
       "    <tr>\n",
       "      <th>count</th>\n",
       "      <td>230312</td>\n",
       "      <td>230310</td>\n",
       "      <td>230312</td>\n",
       "      <td>230312</td>\n",
       "      <td>230312</td>\n",
       "      <td>230312</td>\n",
       "      <td>230312</td>\n",
       "      <td>230312</td>\n",
       "      <td>230312</td>\n",
       "      <td>221022</td>\n",
       "    </tr>\n",
       "    <tr>\n",
       "      <th>unique</th>\n",
       "      <td>230311</td>\n",
       "      <td>224480</td>\n",
       "      <td>14645</td>\n",
       "      <td>79</td>\n",
       "      <td>13</td>\n",
       "      <td>25</td>\n",
       "      <td>3</td>\n",
       "      <td>5</td>\n",
       "      <td>3</td>\n",
       "      <td>17765</td>\n",
       "    </tr>\n",
       "    <tr>\n",
       "      <th>top</th>\n",
       "      <td>CaseNumber</td>\n",
       "      <td>04/25/2018 09:16:00 AM</td>\n",
       "      <td>4900 Block of INTERNATIONAL DR</td>\n",
       "      <td>Apartment/Condo</td>\n",
       "      <td>Theft</td>\n",
       "      <td>All other larceny</td>\n",
       "      <td>Committed</td>\n",
       "      <td>Closed</td>\n",
       "      <td>Mapped</td>\n",
       "      <td>(28.43180352, -81.30852827)</td>\n",
       "    </tr>\n",
       "    <tr>\n",
       "      <th>freq</th>\n",
       "      <td>2</td>\n",
       "      <td>5</td>\n",
       "      <td>4552</td>\n",
       "      <td>40447</td>\n",
       "      <td>116334</td>\n",
       "      <td>59069</td>\n",
       "      <td>217391</td>\n",
       "      <td>163651</td>\n",
       "      <td>221022</td>\n",
       "      <td>4736</td>\n",
       "    </tr>\n",
       "  </tbody>\n",
       "</table>\n",
       "</div>"
      ],
      "text/plain": [
       "        CaseNumber            CaseDateTime                    CaseLocation  \\\n",
       "count       230312                  230310                          230312   \n",
       "unique      230311                  224480                           14645   \n",
       "top     CaseNumber  04/25/2018 09:16:00 AM  4900 Block of INTERNATIONAL DR   \n",
       "freq             2                       5                            4552   \n",
       "\n",
       "       CaseOffenseLocationType CaseOffenseCategory    CaseOffenseType  \\\n",
       "count                   230312              230312             230312   \n",
       "unique                      79                  13                 25   \n",
       "top            Apartment/Condo               Theft  All other larceny   \n",
       "freq                     40447              116334              59069   \n",
       "\n",
       "       CaseOffenseChargeType CaseDisposition  Status  \\\n",
       "count                 230312          230312  230312   \n",
       "unique                     3               5       3   \n",
       "top                Committed          Closed  Mapped   \n",
       "freq                  217391          163651  221022   \n",
       "\n",
       "                           Location  \n",
       "count                        221022  \n",
       "unique                        17765  \n",
       "top     (28.43180352, -81.30852827)  \n",
       "freq                           4736  "
      ]
     },
     "execution_count": 37,
     "metadata": {},
     "output_type": "execute_result"
    }
   ],
   "source": [
    "Orlando_crime.describe()"
   ]
  },
  {
   "cell_type": "markdown",
   "metadata": {},
   "source": [
    "### Frequency of criminal offenses - Orlando, FL"
   ]
  },
  {
   "cell_type": "code",
   "execution_count": 38,
   "metadata": {},
   "outputs": [
    {
     "data": {
      "text/plain": [
       "Theft                  116334\n",
       "Burglary                29594\n",
       "Assault                 25713\n",
       "Narcotics               24529\n",
       "Fraud                   15200\n",
       "Vehicle Theft           11811\n",
       "Robbery                  6458\n",
       "Arson                     290\n",
       "Homicide                  197\n",
       "Kidnapping                123\n",
       "Embezzlement               58\n",
       "Bribery                     3\n",
       "CaseOffenseCategory         2\n",
       "Name: CaseOffenseCategory, dtype: int64"
      ]
     },
     "execution_count": 38,
     "metadata": {},
     "output_type": "execute_result"
    }
   ],
   "source": [
    "Orlando_crime['CaseOffenseCategory'].value_counts()"
   ]
  },
  {
   "cell_type": "markdown",
   "metadata": {},
   "source": [
    "### Frequency of criminal offenses are top locations - these locations will be converted to latitude/longitude for mapping and clustering activities"
   ]
  },
  {
   "cell_type": "code",
   "execution_count": 39,
   "metadata": {},
   "outputs": [
    {
     "data": {
      "text/plain": [
       "4900 Block of INTERNATIONAL DR         4552\n",
       "2500 Block of S KIRKMAN RD             2190\n",
       "4200 Block of CONROY RD                1876\n",
       "5900 Block of S GOLDENROD RD           1787\n",
       "1000 Block of UNIVERSAL STUDIOS PLZ    1766\n",
       "                                       ... \n",
       "CONROY RD / SOUTHGATE DR                  1\n",
       "100 Block of W NEW HAMPSHIRE ST           1\n",
       "RIO GRANDE / 24TH ST                      1\n",
       "C R SMITH ST/S JOHN YOUNG PKWY            1\n",
       "3500 Block of CHELSEA ST                  1\n",
       "Name: CaseLocation, Length: 14645, dtype: int64"
      ]
     },
     "execution_count": 39,
     "metadata": {},
     "output_type": "execute_result"
    }
   ],
   "source": [
    "Orlando_crime['CaseLocation'].value_counts()"
   ]
  },
  {
   "cell_type": "code",
   "execution_count": null,
   "metadata": {},
   "outputs": [],
   "source": []
  }
 ],
 "metadata": {
  "kernelspec": {
   "display_name": "Python 3",
   "language": "python",
   "name": "python3"
  },
  "language_info": {
   "codemirror_mode": {
    "name": "ipython",
    "version": 3
   },
   "file_extension": ".py",
   "mimetype": "text/x-python",
   "name": "python",
   "nbconvert_exporter": "python",
   "pygments_lexer": "ipython3",
   "version": "3.8.5"
  }
 },
 "nbformat": 4,
 "nbformat_minor": 4
}
